{
 "cells": [
  {
   "attachments": {},
   "cell_type": "markdown",
   "metadata": {},
   "source": [
    "# 链表测试\n",
    "## 1. 单链表测试\n",
    "> 测试内容：\n",
    "> 1. 根据一个list数据，创建linkedList。\n",
    "> > 测试用例：  \n",
    "> > data = [0,1,2,3,4]  \n",
    "> > print: [0 -> 1 -> 2 -> 3 -> 4]\n",
    "> 2. 插入数据\n",
    "> >  测试用例：\n",
    "> > 1. 头插入：add_first(-1) -> [-1 0 1 2 3 4]\n",
    "> > 2. 中间插入：insert(4,3) -> [-1 0 1 2 3 3 4]\n",
    "> > 3. 尾插入：insert(len,5) -> [-1 0 1 2 3 3 4 5]\n",
    "> 3. 删除数据\n",
    "> > 测试用例：\n",
    "> > 1. 头部删除：delete(0) -> [0 1 2 3 3 4 5] return -1\n",
    "> > 2. 中间删除：delete(3) -> [0 1 2 3 4 5] return 3\n",
    "> > 3. 尾部删除：delete(5) -> [0 1 2 3 4] return 5\n",
    "> 4. 获取数据\n",
    "> > 1. get(1)  return 1\n",
    "> 5. 修改数据\n",
    "> > 2. set(1,2) -> [0 2 2 3 4]"
   ]
  },
  {
   "cell_type": "code",
   "execution_count": null,
   "metadata": {},
   "outputs": [
    {
     "name": "stdout",
     "output_type": "stream",
     "text": [
      "[0 -> 1 -> 2 -> 3 -> 4]\n"
     ]
    }
   ],
   "source": [
    "# 创建linkedlist\n",
    "from link_list import LinkedList\n",
    "\n",
    "datas = [i for i in range(5)]\n",
    "linked_list = LinkedList()\n",
    "linked_list.create(datas=datas)\n",
    "print(linked_list)"
   ]
  },
  {
   "cell_type": "code",
   "execution_count": null,
   "metadata": {},
   "outputs": [
    {
     "name": "stdout",
     "output_type": "stream",
     "text": [
      "[-1 -> 0 -> 1 -> 2 -> 3 -> 4]\n",
      "[-1 -> 0 -> 1 -> 2 -> 3 -> 3 -> 4]\n",
      "[-1 -> 0 -> 1 -> 2 -> 3 -> 3 -> 4 -> 5]\n"
     ]
    }
   ],
   "source": [
    "# 插入数据\n",
    "linked_list.add_first(-1)\n",
    "print(linked_list)\n",
    "\n",
    "linked_list.insert(4,3)\n",
    "print(linked_list)\n",
    "\n",
    "linked_list.insert(len(linked_list),5)\n",
    "print(linked_list)"
   ]
  },
  {
   "cell_type": "code",
   "execution_count": null,
   "metadata": {},
   "outputs": [
    {
     "name": "stdout",
     "output_type": "stream",
     "text": [
      "删除位置：0，删除节点：-1， 删除后：[0 -> 1 -> 2 -> 3 -> 3 -> 4 -> 5]\n",
      "删除位置：3，删除节点：3， 删除后：[0 -> 1 -> 2 -> 3 -> 4 -> 5]\n",
      "删除位置：5，删除节点：5， 删除后：[0 -> 1 -> 2 -> 3 -> 4]\n"
     ]
    }
   ],
   "source": [
    "# 删除数据\n",
    "print(f\"删除位置：{0}，删除节点：{linked_list.delete(0)}， 删除后：{str(linked_list)}\")\n",
    "print(f\"删除位置：{3}，删除节点：{linked_list.delete(3)}， 删除后：{str(linked_list)}\")\n",
    "print(f\"删除位置：{5}，删除节点：{linked_list.delete(5)}， 删除后：{str(linked_list)}\")"
   ]
  },
  {
   "cell_type": "code",
   "execution_count": null,
   "metadata": {},
   "outputs": [
    {
     "name": "stdout",
     "output_type": "stream",
     "text": [
      "[0 -> 1 -> 2 -> 3 -> 4]\n",
      "第0个节点的值：0\n",
      "修改第0个节点的值为1.修改后：[1 -> 1 -> 2 -> 3 -> 4]\n"
     ]
    }
   ],
   "source": [
    "# 获取和修改值\n",
    "print(linked_list)\n",
    "print(f\"第{0}个节点的值：{linked_list.get(0)}\")\n",
    "linked_list.set(0,1)\n",
    "print(f\"修改第{0}个节点的值为1.修改后：{str(linked_list)}\")"
   ]
  },
  {
   "attachments": {},
   "cell_type": "markdown",
   "metadata": {},
   "source": [
    "## 2. 双向链表测试\n",
    "> 测试内容：\n",
    "> 1. 根据一个list数据，创建linkedList。\n",
    "> > 测试用例：  \n",
    "> > data = [0,1,2,3,4]  \n",
    "> > print: [0 <-> 1 <-> 2 <-> 3 <-> 4]\n",
    "> 2. 插入数据\n",
    "> >  测试用例：\n",
    "> > 1. 头插入：add_first(-1) -> [-1 0 1 2 3 4]\n",
    "> > 2. 中间插入：insert(3,3) -> [-1 0 1 2 3 3 4]\n",
    "> > 3. 尾插入：insert(len,5) -> [-1 0 1 2 3 3 4 5]\n",
    "> 3. 删除数据\n",
    "> > 测试用例：\n",
    "> > 1. 头部删除：delete(0) -> [0 1 2 3 3 4 5] return -1\n",
    "> > 2. 中间删除：delete(3) -> [0 1 2 3 4 5] return 3\n",
    "> > 3. 尾部删除：delete(5) -> [0 1 2 3 4] return 5\n",
    "> 4. 获取数据\n",
    "> > 1. get(1)  return 1\n",
    "> 5. 修改数据\n",
    "> > 2. set(1,2) -> [0 2 2 3 4]"
   ]
  },
  {
   "cell_type": "code",
   "execution_count": null,
   "metadata": {},
   "outputs": [
    {
     "name": "stdout",
     "output_type": "stream",
     "text": [
      "[0 <-> 1 <-> 2 <-> 3 <-> 4]\n"
     ]
    }
   ],
   "source": [
    "# 创建linkedlist\n",
    "from link_list import DoubleLinkedList\n",
    "\n",
    "datas = [i for i in range(5)]\n",
    "double_linked_list = DoubleLinkedList()\n",
    "double_linked_list.create(datas=datas)\n",
    "print(double_linked_list)"
   ]
  },
  {
   "cell_type": "code",
   "execution_count": null,
   "metadata": {},
   "outputs": [
    {
     "name": "stdout",
     "output_type": "stream",
     "text": [
      "[-1 <-> 0 <-> 1 <-> 2 <-> 3 <-> 4]\n",
      "[-1 <-> 0 <-> 1 <-> 2 <-> 3 <-> 3 <-> 4]\n",
      "[-1 <-> 0 <-> 1 <-> 2 <-> 3 <-> 3 <-> 4 <-> 5]\n"
     ]
    }
   ],
   "source": [
    "# 插入数据\n",
    "double_linked_list.add_first(-1)\n",
    "print(double_linked_list)\n",
    "\n",
    "double_linked_list.insert(4,3)\n",
    "print(double_linked_list)\n",
    "\n",
    "double_linked_list.insert(len(double_linked_list),5)\n",
    "print(double_linked_list)"
   ]
  },
  {
   "cell_type": "code",
   "execution_count": null,
   "metadata": {},
   "outputs": [
    {
     "name": "stdout",
     "output_type": "stream",
     "text": [
      "删除位置：0，删除节点：-1， 删除后：[0 <-> 1 <-> 2 <-> 3 <-> 3 <-> 4 <-> 5]\n",
      "删除位置：3，删除节点：3， 删除后：[0 <-> 1 <-> 2 <-> 3 <-> 4 <-> 5]\n",
      "删除位置：5，删除节点：5， 删除后：[0 <-> 1 <-> 2 <-> 3 <-> 4]\n"
     ]
    }
   ],
   "source": [
    "# 删除数据\n",
    "print(f\"删除位置：{0}，删除节点：{double_linked_list.delete(0)}， 删除后：{str(double_linked_list)}\")\n",
    "print(f\"删除位置：{3}，删除节点：{double_linked_list.delete(3)}， 删除后：{str(double_linked_list)}\")\n",
    "print(f\"删除位置：{5}，删除节点：{double_linked_list.delete(5)}， 删除后：{str(double_linked_list)}\")"
   ]
  },
  {
   "cell_type": "code",
   "execution_count": null,
   "metadata": {},
   "outputs": [
    {
     "name": "stdout",
     "output_type": "stream",
     "text": [
      "[0 <-> 1 <-> 2 <-> 3 <-> 4]\n",
      "第0个节点的值：0\n",
      "修改第0个节点的值为1.修改后：[1 <-> 1 <-> 2 <-> 3 <-> 4]\n"
     ]
    }
   ],
   "source": [
    "# 获取和修改值\n",
    "print(double_linked_list)\n",
    "print(f\"第{0}个节点的值：{double_linked_list.get(0)}\")\n",
    "double_linked_list.set(0,1)\n",
    "print(f\"修改第{0}个节点的值为1.修改后：{str(double_linked_list)}\")"
   ]
  },
  {
   "cell_type": "code",
   "execution_count": null,
   "metadata": {},
   "outputs": [],
   "source": []
  }
 ],
 "metadata": {
  "kernelspec": {
   "display_name": "base",
   "language": "python",
   "name": "python3"
  },
  "language_info": {
   "codemirror_mode": {
    "name": "ipython",
    "version": 3
   },
   "file_extension": ".py",
   "mimetype": "text/x-python",
   "name": "python",
   "nbconvert_exporter": "python",
   "pygments_lexer": "ipython3",
   "version": "3.8.3"
  },
  "orig_nbformat": 4,
  "vscode": {
   "interpreter": {
    "hash": "b09ec625f77bf4fd762565a912b97636504ad6ec901eb2d0f4cf5a7de23e1ee5"
   }
  }
 },
 "nbformat": 4,
 "nbformat_minor": 2
}
